{
 "cells": [
  {
   "cell_type": "code",
   "execution_count": 14,
   "id": "05929d81",
   "metadata": {},
   "outputs": [
    {
     "name": "stdout",
     "output_type": "stream",
     "text": [
      "Original List: [1, 2, 3, 4, 5]\n",
      "After adding an element: [1, 2, 3, 4, 5, 6]\n",
      "After removing an element: [1, 2, 4, 5, 6]\n",
      "After modifying an element: [1, 2, 4, 5, 3]\n",
      "Original Dictionaries [1, 2, 4, 5, 3]\n",
      "After adding a key value [1, 2, 4, 5, 3]\n",
      "After removing a key value [1, 2, 4, 5, 3]\n",
      "After modifying a ke value [1, 2, 4, 5, 3]\n",
      "Original set: [1, 2, 4, 5, 3]\n",
      "After adding an element: [1, 2, 4, 5, 3]\n",
      "After removing an element: [1, 2, 4, 5, 3]\n"
     ]
    }
   ],
   "source": [
    "# LIST OPERATIONS\n",
    "my_list = [1,2,3,4,5]\n",
    "print(\"Original List:\", my_list)\n",
    "\n",
    "# Adding an element\n",
    "my_list.append(6)\n",
    "print(\"After adding an element:\", my_list)\n",
    "\n",
    "# Removing an element\n",
    "my_list.remove(3)\n",
    "print(\"After removing an element:\", my_list)\n",
    "\n",
    "# Modifying an element\n",
    "my_list[4] = 3\n",
    "print(\"After modifying an element:\", my_list)\n",
    "\n",
    "\n",
    "# DICTIONARIES OPERATIONS\n",
    "my_dict = {'Name': 'Aryan', 'Age': 10,'Class': 5, 'Nationality': 'Indian'}\n",
    "print(\"Original Dictionaries\", my_list)\n",
    "\n",
    "# Adding a key value\n",
    "my_dict['Gender'] = 'Male'\n",
    "print(\"After adding a key value\", my_list)\n",
    "\n",
    "#Removing a key value\n",
    "del my_dict['Nationality']\n",
    "print(\"After removing a key value\", my_list)\n",
    "\n",
    "# Modifying a key value\n",
    "my_dict['Age'] = 11\n",
    "print(\"After modifying a ke value\", my_list)\n",
    "\n",
    "\n",
    "#SET OPERATIONS\n",
    "my_set = {1, 2, 3, 4, 5}\n",
    "print(\"Original set:\", my_list)\n",
    "\n",
    "# Adding an element\n",
    "my_set.add(6)\n",
    "print(\"After adding an element:\", my_list)\n",
    "\n",
    "#Removing an element\n",
    "my_set.remove(1)\n",
    "print(\"After removing an element:\", my_list)\n",
    "\n"
   ]
  },
  {
   "cell_type": "code",
   "execution_count": null,
   "id": "f735a75e",
   "metadata": {},
   "outputs": [],
   "source": []
  }
 ],
 "metadata": {
  "kernelspec": {
   "display_name": "Python 3 (ipykernel)",
   "language": "python",
   "name": "python3"
  },
  "language_info": {
   "codemirror_mode": {
    "name": "ipython",
    "version": 3
   },
   "file_extension": ".py",
   "mimetype": "text/x-python",
   "name": "python",
   "nbconvert_exporter": "python",
   "pygments_lexer": "ipython3",
   "version": "3.11.5"
  }
 },
 "nbformat": 4,
 "nbformat_minor": 5
}
